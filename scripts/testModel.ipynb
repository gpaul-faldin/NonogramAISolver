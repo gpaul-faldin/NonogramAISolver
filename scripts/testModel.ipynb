{
 "cells": [
  {
   "cell_type": "code",
   "execution_count": 137,
   "id": "185bd7b3",
   "metadata": {},
   "outputs": [
    {
     "name": "stdout",
     "output_type": "stream",
     "text": [
      "\u001b[1m1/1\u001b[0m \u001b[32m━━━━━━━━━━━━━━━━━━━━\u001b[0m\u001b[37m\u001b[0m \u001b[1m0s\u001b[0m 67ms/step\n"
     ]
    },
    {
     "data": {
      "image/png": "[encoded data removed]",
      "text/plain": [
       "<Figure size 1200x600 with 2 Axes>"
      ]
     },
     "metadata": {},
     "output_type": "display_data"
    },
    {
     "name": "stdout",
     "output_type": "stream",
     "text": [
      "Puzzle solving accuracy: 1.00\n"
     ]
    }
   ],
   "source": [
    "import numpy as np\n",
    "import tensorflow as tf\n",
    "from tensorflow.keras.models import load_model\n",
    "import json\n",
    "import time\n",
    "import random\n",
    "import matplotlib.pyplot as plt\n",
    "\n",
    "# Define model paths for different sizes\n",
    "model_paths = {\n",
    "    '5x5': '5x5_nonogram_model.keras',\n",
    "    '10x10': '10x10_nonogram_model.keras'\n",
    "}\n",
    "\n",
    "def pick_random_puzzle(size='5x5'):\n",
    "    \"\"\"Selects a random puzzle from a JSON file based on the size.\"\"\"\n",
    "    with open(f'data/{size}.json', 'r') as file:\n",
    "        random.seed(time.time())\n",
    "        file_data = json.load(file)\n",
    "        puzzle = random.choice(file_data)\n",
    "        return puzzle\n",
    "\n",
    "def test_model_on_puzzle(model, puzzle_data, size='5x5'):\n",
    "    \"\"\"Tests the model on a given puzzle and visualizes the result based on the size.\"\"\"\n",
    "    if size == '5x5':\n",
    "        # Preprocess the 5x5 puzzle data\n",
    "        combined = np.array(puzzle_data['combined']).reshape(10, 5)\n",
    "        combined = combined / np.max(combined)\n",
    "        X = combined[np.newaxis, :, :, np.newaxis]  # Shape: (1, 10, 5, 1)\n",
    "        \n",
    "        # Make prediction using the model\n",
    "        prediction = model.predict(X)[0]\n",
    "        prediction = (prediction > 0.5).astype(int)\n",
    "        \n",
    "        # Get actual solution from puzzle data\n",
    "        solution = np.array(puzzle_data['solution']).reshape(5, 5)\n",
    "    \n",
    "    elif size == '10x10':\n",
    "        # Preprocess the 10x10 puzzle data\n",
    "        combined = np.array(puzzle_data['combined']).reshape(20, 10)\n",
    "        combined = combined / np.max(combined)\n",
    "        X = combined[np.newaxis, :, :, np.newaxis]  # Shape: (1, 20, 10, 1)\n",
    "        \n",
    "        # Make prediction using the model\n",
    "        prediction = model.predict(X)[0]\n",
    "        prediction = (prediction > 0.5).astype(int)\n",
    "        \n",
    "        # Get actual solution from puzzle data\n",
    "        solution = np.array(puzzle_data['solution']).reshape(10, 10)\n",
    "    \n",
    "    else:\n",
    "        raise ValueError(\"Unsupported nonogram size. Please use '5x5' or '10x10'.\")\n",
    "\n",
    "    # Visualize the model's prediction and actual solution\n",
    "    fig, (ax1, ax2) = plt.subplots(1, 2, figsize=(12, 6))\n",
    "    \n",
    "    ax1.imshow(prediction, cmap='binary', vmin=0, vmax=1)\n",
    "    ax1.set_title('Model Prediction')\n",
    "    ax1.grid(True)\n",
    "    ax1.set_xticks(np.arange(-0.5, prediction.shape[1], 1))\n",
    "    ax1.set_yticks(np.arange(-0.5, prediction.shape[0], 1))\n",
    "    ax1.set_xticklabels([])\n",
    "    ax1.set_yticklabels([])\n",
    "    ax1.tick_params(length=0)\n",
    "    \n",
    "    ax2.imshow(solution, cmap='binary', vmin=0, vmax=1)\n",
    "    ax2.set_title('Actual Solution')\n",
    "    ax2.grid(True)\n",
    "    ax2.set_xticks(np.arange(-0.5, solution.shape[1], 1))\n",
    "    ax2.set_yticks(np.arange(-0.5, solution.shape[0], 1))\n",
    "    ax2.set_xticklabels([])\n",
    "    ax2.set_yticklabels([])\n",
    "    ax2.tick_params(length=0)\n",
    "    \n",
    "    plt.show()\n",
    "    \n",
    "    # Calculate and print the accuracy\n",
    "    accuracy = np.mean(prediction == solution)\n",
    "    print(f\"Puzzle solving accuracy: {accuracy:.2f}\")\n",
    "\n",
    "if __name__ == \"__main__\":\n",
    "    size = '10x10'  # Change this to '5x5' if needed\n",
    "    \n",
    "    # Load the Keras model for the specified size\n",
    "    model = load_model(model_paths[size])\n",
    "    \n",
    "    # Pick a random puzzle for the specified size\n",
    "    puzzle = pick_random_puzzle(size=size)\n",
    "    \n",
    "    # Test the model on the puzzle and visualize the results\n",
    "    test_model_on_puzzle(model, puzzle, size=size)\n"
   ]
  }
 ],
 "metadata": {
  "kernelspec": {
   "display_name": "Python 3 (ipykernel)",
   "language": "python",
   "name": "python3"
  },
  "language_info": {
   "codemirror_mode": {
    "name": "ipython",
    "version": 3
   },
   "file_extension": ".py",
   "mimetype": "text/x-python",
   "name": "python",
   "nbconvert_exporter": "python",
   "pygments_lexer": "ipython3",
   "version": "3.11.0rc1"
  }
 },
 "nbformat": 4,
 "nbformat_minor": 5
}
